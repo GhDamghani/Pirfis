{
 "cells": [
  {
   "cell_type": "code",
   "execution_count": null,
   "metadata": {},
   "outputs": [],
   "source": [
    "# add JpegTurbo, ImageIO\n",
    "using FileIO, TestImages, ImageShow, ImageCore, ImageFiltering, Images, Colors\n",
    "\n",
    "img = testimage(\"lighthouse\")\n",
    "img = imresize(img, ratio=1 / 2)"
   ]
  },
  {
   "cell_type": "code",
   "execution_count": null,
   "metadata": {},
   "outputs": [],
   "source": [
    "img_size = size(img)\n",
    "b = Float32.(Gray.(img))\n",
    "img_cum_energy = fill(0.0, img_size[1], img_size[2])\n",
    "Sy, Sx = Kernel.sobel()\n",
    "∇y = imfilter(b, Sy)\n",
    "∇x = imfilter(b, Sx)\n",
    "img_edge = sqrt.(∇x .^ 2 + ∇y .^ 2)\n",
    "for i in img_size[1]:-1:1\n",
    "    @simd for j in 1:img_size[2]\n",
    "        if i == img_size[1]\n",
    "            img_cum_energy[i, j] = img_edge[i, j]\n",
    "        else\n",
    "            if j == 1\n",
    "                m = minimum(img_cum_energy[i+1, j:j+1])\n",
    "            elseif j == img_size[2]\n",
    "                m = minimum(img_cum_energy[i+1, j-1:j])\n",
    "            else\n",
    "                m = minimum(img_cum_energy[i+1, j-1:j+1])\n",
    "            end\n",
    "            img_cum_energy[i, j] = m + img_edge[i, j]\n",
    "        end\n",
    "    end\n",
    "end"
   ]
  },
  {
   "cell_type": "code",
   "execution_count": null,
   "metadata": {},
   "outputs": [],
   "source": [
    "Gray.(img_cum_energy / maximum(img_cum_energy))"
   ]
  },
  {
   "cell_type": "code",
   "execution_count": null,
   "metadata": {},
   "outputs": [],
   "source": [
    "seam = fill(0, img_size[1])\n",
    "for i in 1:img_size[1]\n",
    "    if i == 1\n",
    "        seam[i] = sortperm(img_cum_energy[1, :])[1]\n",
    "    else\n",
    "        if seam[i-1] == 1\n",
    "            m = sortperm(img_cum_energy[i, 1:seam[i-1]+1])[1] + 1\n",
    "        elseif seam[i-1] == img_size[2]\n",
    "            m = sortperm(img_cum_energy[i, seam[i-1]-1:img_size[2]])[1] - 1\n",
    "        else\n",
    "            m = sortperm(img_cum_energy[i, seam[i-1]-1:seam[i-1]+1])[1]\n",
    "        end\n",
    "        seam[i] = seam[i-1] + m - 2\n",
    "    end\n",
    "end\n",
    "img_arr = Float32.(channelview(img))\n",
    "new_img = fill(RGB(0, 0, 0), img_size[1], img_size[2] - 1)\n",
    "@simd for i in 1:img_size[1]\n",
    "    new_img[i, :] = reduce(hcat, [RGB(img_arr[1, i, x], img_arr[2, i, x], img_arr[3, i, x]) for x in 1:img_size[2] if x != seam[i]])\n",
    "end\n",
    "new_img # doesn't change that much because only one column is removed"
   ]
  }
 ],
 "metadata": {
  "kernelspec": {
   "display_name": "Julia 1.10.4",
   "language": "julia",
   "name": "julia-1.10"
  },
  "language_info": {
   "file_extension": ".jl",
   "mimetype": "application/julia",
   "name": "julia",
   "version": "1.10.4"
  }
 },
 "nbformat": 4,
 "nbformat_minor": 2
}
